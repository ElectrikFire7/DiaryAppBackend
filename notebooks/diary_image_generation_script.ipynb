{
 "cells": [
  {
   "cell_type": "code",
   "execution_count": null,
   "metadata": {
    "execution": {
     "iopub.execute_input": "2025-05-23T14:58:54.521177Z",
     "iopub.status.busy": "2025-05-23T14:58:54.520481Z",
     "iopub.status.idle": "2025-05-23T14:59:21.087215Z",
     "shell.execute_reply": "2025-05-23T14:59:21.086644Z",
     "shell.execute_reply.started": "2025-05-23T14:58:54.521145Z"
    },
    "id": "CctN0V6bRy6c",
    "trusted": true
   },
   "outputs": [],
   "source": [
    "from diffusers import StableDiffusionXLPipeline\n",
    "import torch"
   ]
  },
  {
   "cell_type": "code",
   "execution_count": 2,
   "metadata": {
    "execution": {
     "iopub.execute_input": "2025-05-23T14:59:21.088827Z",
     "iopub.status.busy": "2025-05-23T14:59:21.088284Z",
     "iopub.status.idle": "2025-05-23T14:59:21.092404Z",
     "shell.execute_reply": "2025-05-23T14:59:21.091619Z",
     "shell.execute_reply.started": "2025-05-23T14:59:21.088806Z"
    },
    "trusted": true
   },
   "outputs": [],
   "source": [
    "import requests, io"
   ]
  },
  {
   "cell_type": "code",
   "execution_count": null,
   "metadata": {
    "execution": {
     "iopub.execute_input": "2025-05-23T14:59:21.093820Z",
     "iopub.status.busy": "2025-05-23T14:59:21.093209Z",
     "iopub.status.idle": "2025-05-23T14:59:21.316080Z",
     "shell.execute_reply": "2025-05-23T14:59:21.315430Z",
     "shell.execute_reply.started": "2025-05-23T14:59:21.093791Z"
    },
    "trusted": true
   },
   "outputs": [],
   "source": [
    "url1 = \"https://diaryappbackend-gmme.onrender.com/generate\"\n",
    "response1 = requests.get(url1)\n",
    "print(response1.json())\n",
    "request_list = response1.json()"
   ]
  },
  {
   "cell_type": "code",
   "execution_count": 4,
   "metadata": {
    "execution": {
     "iopub.execute_input": "2025-05-23T14:59:21.318044Z",
     "iopub.status.busy": "2025-05-23T14:59:21.317771Z",
     "iopub.status.idle": "2025-05-23T14:59:21.321428Z",
     "shell.execute_reply": "2025-05-23T14:59:21.320883Z",
     "shell.execute_reply.started": "2025-05-23T14:59:21.318026Z"
    },
    "trusted": true
   },
   "outputs": [],
   "source": [
    "base_model = \"stabilityai/stable-diffusion-xl-base-1.0\""
   ]
  },
  {
   "cell_type": "code",
   "execution_count": null,
   "metadata": {
    "execution": {
     "iopub.execute_input": "2025-05-23T14:59:21.322464Z",
     "iopub.status.busy": "2025-05-23T14:59:21.322209Z",
     "iopub.status.idle": "2025-05-23T15:00:24.040384Z",
     "shell.execute_reply": "2025-05-23T15:00:24.039406Z",
     "shell.execute_reply.started": "2025-05-23T14:59:21.322441Z"
    },
    "trusted": true
   },
   "outputs": [],
   "source": [
    "pipe = StableDiffusionXLPipeline.from_pretrained(base_model, torch_dtype=torch.bfloat16)"
   ]
  },
  {
   "cell_type": "code",
   "execution_count": 6,
   "metadata": {
    "execution": {
     "iopub.execute_input": "2025-05-23T15:00:24.041557Z",
     "iopub.status.busy": "2025-05-23T15:00:24.041203Z",
     "iopub.status.idle": "2025-05-23T15:00:26.181795Z",
     "shell.execute_reply": "2025-05-23T15:00:26.180975Z",
     "shell.execute_reply.started": "2025-05-23T15:00:24.041523Z"
    },
    "trusted": true
   },
   "outputs": [],
   "source": [
    "pipe = pipe.to(\"cuda\")"
   ]
  },
  {
   "cell_type": "code",
   "execution_count": null,
   "metadata": {
    "execution": {
     "iopub.execute_input": "2025-05-23T15:00:26.182964Z",
     "iopub.status.busy": "2025-05-23T15:00:26.182705Z",
     "iopub.status.idle": "2025-05-23T15:03:01.152204Z",
     "shell.execute_reply": "2025-05-23T15:03:01.151551Z",
     "shell.execute_reply.started": "2025-05-23T15:00:26.182946Z"
    },
    "trusted": true
   },
   "outputs": [],
   "source": [
    "for generate_request in request_list:\n",
    "    prompt = generate_request['text_payload'] + \" , paper sketch\"\n",
    "\n",
    "    filename = generate_request['imageName']\n",
    "\n",
    "    image = pipe(prompt).images[0]\n",
    "\n",
    "    image_bytes = io.BytesIO()\n",
    "    image.save(image_bytes, format='JPEG')  # Explicitly save as JPEG\n",
    "    image_bytes.seek(0)\n",
    "\n",
    "    url2 = \"https://diaryappbackend-gmme.onrender.com/image\"\n",
    "    files = {\n",
    "        'image': (filename, image_bytes, 'image/jpeg')\n",
    "    }\n",
    "    data = {\n",
    "        'filename': filename\n",
    "    }\n",
    "    \n",
    "    response2 = requests.post(url2, files=files, data=data)\n",
    "    print(response2.status_code, response2.text)\n",
    "\n",
    "    if response2.status_code == 200 or response2.status_code == 201:\n",
    "        url3 = \"https://diaryappbackend-gmme.onrender.com/generate\"\n",
    "\n",
    "        payload = {\n",
    "            \"imageName\": generate_request['imageName']\n",
    "        }\n",
    "        \n",
    "        response3 = requests.delete(url3, json=payload)\n",
    "        print(response3.status_code, response3.text)\n",
    "    \n",
    "    torch.cuda.empty_cache()\n",
    "    torch.cuda.ipc_collect()"
   ]
  },
  {
   "cell_type": "code",
   "execution_count": 8,
   "metadata": {
    "execution": {
     "iopub.execute_input": "2025-05-23T15:03:01.153105Z",
     "iopub.status.busy": "2025-05-23T15:03:01.152911Z",
     "iopub.status.idle": "2025-05-23T15:03:01.157207Z",
     "shell.execute_reply": "2025-05-23T15:03:01.156532Z",
     "shell.execute_reply.started": "2025-05-23T15:03:01.153089Z"
    },
    "trusted": true
   },
   "outputs": [],
   "source": [
    "torch.cuda.empty_cache()\n",
    "torch.cuda.ipc_collect()"
   ]
  }
 ],
 "metadata": {
  "colab": {
   "provenance": []
  },
  "kaggle": {
   "accelerator": "gpu",
   "dataSources": [],
   "dockerImageVersionId": 31011,
   "isGpuEnabled": true,
   "isInternetEnabled": true,
   "language": "python",
   "sourceType": "notebook"
  },
  "kernelspec": {
   "display_name": "Python 3",
   "language": "python",
   "name": "python3"
  },
  "language_info": {
   "codemirror_mode": {
    "name": "ipython",
    "version": 3
   },
   "file_extension": ".py",
   "mimetype": "text/x-python",
   "name": "python",
   "nbconvert_exporter": "python",
   "pygments_lexer": "ipython3",
   "version": "3.11.11"
  }
 },
 "nbformat": 4,
 "nbformat_minor": 4
}
